{
 "cells": [
  {
   "cell_type": "code",
   "execution_count": null,
   "metadata": {},
   "outputs": [],
   "source": [
    "import seaborn as sns\n",
    "import matplotlib.pyplot as plt"
   ]
  },
  {
   "cell_type": "code",
   "execution_count": null,
   "metadata": {},
   "outputs": [],
   "source": [
    "\n",
    "df = pd.DataFrame(p.dict() for p in spotprice)\n",
    "df = df.loc[lambda x: x.PriceArea.isin([\"DK1\", \"DK2\"])]\n",
    "df = df.reset_index()\n",
    "\n",
    "df_day = df.groupby('PriceArea').resample(rule='1D', on='HourUTC').SpotPriceDKK.mean().reset_index()\n",
    "df_month = df.groupby('PriceArea').resample(rule='1M', on='HourUTC').SpotPriceDKK.mean().reset_index()\n",
    "df_month['HourUTC'] = df_month['HourUTC'].dt.strftime('%Y-%m')\n",
    "\n",
    "fig, ax = plt.subplots()\n",
    "sns.lineplot(\n",
    "    x='HourUTC', \n",
    "    y='SpotPriceDKK', \n",
    "    hue='PriceArea', \n",
    "    data=df_day,\n",
    "    ax=ax\n",
    ")\n",
    "fig, ax = plt.subplots()\n",
    "sns.lineplot(\n",
    "    x='HourUTC', \n",
    "    y='SpotPriceDKK', \n",
    "    hue='PriceArea', \n",
    "    data=df_month,\n",
    "    ax=ax\n",
    ")\n",
    "plt.show()\n",
    "\n",
    "print(df)\n",
    "\n"
   ]
  }
 ],
 "metadata": {
  "kernelspec": {
   "display_name": "Python 3.10.2 ('env': venv)",
   "language": "python",
   "name": "python3"
  },
  "language_info": {
   "name": "python",
   "version": "3.10.2"
  },
  "orig_nbformat": 4,
  "vscode": {
   "interpreter": {
    "hash": "74226f72f95bf631694267f4bf35adf7d5327d6665e121e3f41280f41e61ab2f"
   }
  }
 },
 "nbformat": 4,
 "nbformat_minor": 2
}
